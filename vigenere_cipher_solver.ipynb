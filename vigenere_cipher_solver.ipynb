{
  "nbformat": 4,
  "nbformat_minor": 0,
  "metadata": {
    "colab": {
      "name": "vigenere_cipher_solver.ipynb",
      "provenance": []
    },
    "kernelspec": {
      "name": "python3",
      "display_name": "Python 3"
    },
    "language_info": {
      "name": "python"
    }
  },
  "cells": [
    {
      "cell_type": "markdown",
      "source": [
        "## imports"
      ],
      "metadata": {
        "id": "FA9KfjyoL-kY"
      }
    },
    {
      "cell_type": "code",
      "source": [
        "!pip install pycld2 "
      ],
      "metadata": {
        "colab": {
          "base_uri": "https://localhost:8080/"
        },
        "id": "0HuAiyh9L-VF",
        "outputId": "be18c0ba-352c-4f2b-c1b7-c6de06936221"
      },
      "execution_count": 1,
      "outputs": [
        {
          "output_type": "stream",
          "name": "stdout",
          "text": [
            "Requirement already satisfied: pycld2 in /usr/local/lib/python3.7/dist-packages (0.41)\n"
          ]
        }
      ]
    },
    {
      "cell_type": "code",
      "source": [
        "import math\n",
        "\n",
        "import itertools\n",
        "import sys\n",
        "import textwrap\n",
        "\n",
        "import pycld2 as cld2"
      ],
      "metadata": {
        "id": "kbNEDu_DMEcW"
      },
      "execution_count": 11,
      "outputs": []
    },
    {
      "cell_type": "markdown",
      "source": [
        "## Vigenère Cipher's"
      ],
      "metadata": {
        "id": "jMhPFqM1GYQx"
      }
    },
    {
      "cell_type": "code",
      "source": [
        "def vigenere_cipher_unicode(text: str, key: str, encode=False): return ''.join([chr((ord(text[i]) - ((-1) if encode else 1) * ord(key[i % len(key)])) % 1114112) for i in range(len(text))])\n",
        "def vigenere_cipher_alphabet(text: str, key: str, alphabet=None, encode=False): return ''.join([alphabet[(alphabet.index(text[i]) - ((-1) if encode else 1) * alphabet.index(key[i % len(key)])) % len(alphabet)] for i in range(len(text))])"
      ],
      "metadata": {
        "id": "bR4l8reHCouv"
      },
      "execution_count": 12,
      "outputs": []
    },
    {
      "cell_type": "markdown",
      "source": [
        "## test"
      ],
      "metadata": {
        "id": "tEj8MCT6GkQn"
      }
    },
    {
      "cell_type": "markdown",
      "source": [
        "alphabet, key, plaintext  "
      ],
      "metadata": {
        "id": "zpW85DeAGeYN"
      }
    },
    {
      "cell_type": "code",
      "source": [
        "def normalize(text, alphabet):\n",
        "    return ''.join([ch.lower() for ch in text if ch.lower() in alphabet])\n",
        "\n",
        "alphabet = \"abcdefghijklmnopqrstuvwxyz \\n\"\n",
        "\n",
        "key = normalize('somebody', alphabet)\n",
        "\n",
        "plaintext = normalize(\"\"\"but you didnt have to cut me off\n",
        "make out like it never happened and that we were nothing\n",
        "and i dont even need your love\n",
        "but you treat me like a stranger and that feels so rough\n",
        "no you didnt have to stoop so low\n",
        "have your friends collect your records and then change your number\n",
        "i guess that i dont need that though\n",
        "now youre just somebody that i used to know\n",
        "now youre just somebody that i used to know\n",
        "now youre just somebody that i used to know\"\"\", alphabet)"
      ],
      "metadata": {
        "id": "QNxonSNG8hXU",
        "cellView": "code"
      },
      "execution_count": 13,
      "outputs": []
    },
    {
      "cell_type": "code",
      "source": [
        "print(f'KEY:\\n{key}\\n')\n",
        "print(f'PLAINTEXT:\\n{plaintext}\\n')\n",
        "\n",
        "cipher = vigenere_cipher_alphabet(plaintext, key, alphabet, encode=True)\n",
        "print(f'ENCODE:\\n{cipher}\\n')\n",
        "print(f\"DECODE:\\n{vigenere_cipher_alphabet(cipher, key, alphabet)}\\n\")"
      ],
      "metadata": {
        "colab": {
          "base_uri": "https://localhost:8080/"
        },
        "id": "RBZujv3EuLC0",
        "outputId": "08375dfc-edac-4368-8e24-e6c754851213"
      },
      "execution_count": 14,
      "outputs": [
        {
          "output_type": "stream",
          "name": "stdout",
          "text": [
            "KEY:\n",
            "somebody\n",
            "\n",
            "PLAINTEXT:\n",
            "but you didnt have to cut me off\n",
            "make out like it never happened and that we were nothing\n",
            "and i dont even need your love\n",
            "but you treat me like a stranger and that feels so rough\n",
            "no you didnt have to stoop so low\n",
            "have your friends collect your records and then change your number\n",
            "i guess that i dont need that though\n",
            "now youre just somebody that i used to know\n",
            "now youre just somebody that i used to know\n",
            "now youre just somebody that i used to know\n",
            "\n",
            "ENCODE:\n",
            "tgdczaxwvwprumkylskxpmfqjmyi\n",
            "aibr mofmrqjmxmlsbejmziwsuwzo\n",
            "tf\n",
            "h\n",
            "qozh\n",
            "fkyjmgi\n",
            "ihnwmzsuvljynmremlwvazx\n",
            "syadmzifrbuegbcmayarpex\n",
            "krqqfbibfbiwmxmlsbyqedvb\n",
            "jahmmremwdsfkjfsooqe csaxcznzs\n",
            "krqqruhofbdshqcuaboja t\n",
            "erwbagdioyaqk ysmin szhtmfkbzqgum\n",
            "kkdkvfqrnvekeorbpzszcdvdjyskapguwdgyffdcequeitebpzodcjmgkdfkrfsgwjvmx\n",
            "fkkkutdoazwoaevfmmqifkwp hzericuvdpqwkytsgwjakooazxdagczaxnwmvytfboe qfpr\n",
            "wjvmx\n",
            "wbqispcuabgdagdoazwoaevfmmqifkwp hzericuvdpqwkytsgwjakooaz\n",
            "\n",
            "DECODE:\n",
            "but you didnt have to cut me off\n",
            "make out like it never happened and that we were nothing\n",
            "and i dont even need your love\n",
            "but you treat me like a stranger and that feels so rough\n",
            "no you didnt have to stoop so low\n",
            "have your friends collect your records and then change your number\n",
            "i guess that i dont need that though\n",
            "now youre just somebody that i used to know\n",
            "now youre just somebody that i used to know\n",
            "now youre just somebody that i used to know\n",
            "\n"
          ]
        }
      ]
    },
    {
      "cell_type": "markdown",
      "source": [
        "## Kasiski examination\n"
      ],
      "metadata": {
        "id": "ZTSylNeizNYj"
      }
    },
    {
      "cell_type": "code",
      "source": [
        "import re\n",
        "import math\n",
        "\n",
        "def kasiski(s, min_num = 3):\n",
        "    out = ''\n",
        "\n",
        "    matches = []\n",
        "    found = {}\n",
        "    for k in range(min_num, len(s) // 2):\n",
        "        found[k] = {}\n",
        "        shouldbreak = True\n",
        "        for i in range(0, len(s) - k):\n",
        "            v = s[i:(i+k)]\n",
        "            if v not in found[k]:\n",
        "                found[k][v] = 1\n",
        "            else:\n",
        "                found[k][v] += 1\n",
        "                shouldbreak = False\n",
        "\n",
        "        if shouldbreak:\n",
        "            break\n",
        "\n",
        "        for v in found[k]:\n",
        "            if found[k][v] > 2:\n",
        "                matches.append(v)\n",
        "\n",
        "    print(\"Length  Count        Word\")\n",
        "    print(\"======  =====  ==========\")\n",
        "    keylens = []\n",
        "    for v in matches:\n",
        "        k = len(v)\n",
        "        if k not in keylens:\n",
        "            keylens.extend(range(k, k * 4, k))\n",
        "        print((\"%6d  %5d  %10s\" % (k, found[k][v], v)))\n",
        "\n",
        "    return out, keylens"
      ],
      "metadata": {
        "id": "vq-HOp2CSBOA"
      },
      "execution_count": 15,
      "outputs": []
    },
    {
      "cell_type": "code",
      "source": [
        "out, keylens = kasiski(cipher)\n",
        "print(out)"
      ],
      "metadata": {
        "colab": {
          "base_uri": "https://localhost:8080/"
        },
        "id": "M-wq2NzNSNsU",
        "outputId": "d33ef9f5-3364-49c1-e326-bb3b393d4c78"
      },
      "execution_count": 16,
      "outputs": [
        {
          "output_type": "stream",
          "name": "stdout",
          "text": [
            "Length  Count        Word\n",
            "======  =====  ==========\n",
            "     3      3         sgw\n",
            "     3      3         gwj\n",
            "     3      3         oaz\n",
            "     4      3        sgwj\n",
            "\n"
          ]
        }
      ]
    },
    {
      "cell_type": "markdown",
      "source": [
        "## solve vigenere"
      ],
      "metadata": {
        "id": "FYLknEKszPpZ"
      }
    },
    {
      "cell_type": "code",
      "source": [
        "ENGLISH_FREQ = (0.0749, 0.0129, 0.0354, 0.0362, 0.1400, 0.0218, 0.0174, 0.0422, 0.0665, 0.0027, 0.0047,\n",
        "                0.0357, 0.0339, 0.0674, 0.0737, 0.0243, 0.0026, 0.0614, 0.0695, 0.0985, 0.0300, 0.0116,\n",
        "                0.0169, 0.0028, 0.0164, 0.0004)\n",
        "\n",
        "def compare_freq(text, alphabet):\n",
        "    if not text:\n",
        "        return None\n",
        "    text = [t for t in text]\n",
        "    freq = [0] * (len(alphabet))\n",
        "    total = float(len(text))\n",
        "    for l in text:\n",
        "        freq[alphabet.index(l)] += 1\n",
        "    return sum(abs(f / total - E) for f, E in zip(freq, ENGLISH_FREQ))\n",
        "\n",
        "def find_keys_vigenere(text, keylens=range(3, 20), alphabet=None):\n",
        "    best_keys = []\n",
        "\n",
        "    text_letters = [c for c in text.lower()]\n",
        "\n",
        "    for key_length in keylens:\n",
        "        key = [None] * key_length\n",
        "        for key_index in range(key_length):\n",
        "            letters = \"\".join(itertools.islice(text_letters, key_index, None, key_length))\n",
        "            shifts = []\n",
        "            for key_char in alphabet:\n",
        "                shifts.append(\n",
        "                    (compare_freq(vigenere_cipher_alphabet(letters, key_char, alphabet), \n",
        "                                  alphabet), \n",
        "                        key_char)\n",
        "                )\n",
        "            key[key_index] = min(shifts, key=lambda x: x[0])[1]\n",
        "        best_keys.append(\"\".join(key))\n",
        "    best_keys.sort(key=lambda key: compare_freq(vigenere_cipher_alphabet(letters, key_char, alphabet), alphabet))\n",
        "    return best_keys\n"
      ],
      "metadata": {
        "id": "Qt8FiKTiSQ6T"
      },
      "execution_count": 17,
      "outputs": []
    },
    {
      "cell_type": "code",
      "source": [
        "best_keys = find_keys_vigenere(cipher, keylens, alphabet=alphabet)"
      ],
      "metadata": {
        "id": "1GKFOm5NWXou"
      },
      "execution_count": 18,
      "outputs": []
    },
    {
      "cell_type": "code",
      "source": [
        "for pkey in best_keys:\n",
        "    decoded = vigenere_cipher_alphabet(cipher, pkey, alphabet)\n",
        "    _, _, _, detected_language = cld2.detect(decoded,  returnVectors=True)\n",
        "    if detected_language[0][3] == 'en':\n",
        "        print(f'===KEY:{pkey}===\\n{decoded}\\n')"
      ],
      "metadata": {
        "colab": {
          "base_uri": "https://localhost:8080/"
        },
        "id": "Rgt5jLiJWakr",
        "outputId": "55f50f14-0aca-4038-9902-d93f20722fde"
      },
      "execution_count": 19,
      "outputs": [
        {
          "output_type": "stream",
          "name": "stdout",
          "text": [
            "===KEY:somebody===\n",
            "but you didnt have to cut me off\n",
            "make out like it never happened and that we were nothing\n",
            "and i dont even need your love\n",
            "but you treat me like a stranger and that feels so rough\n",
            "no you didnt have to stoop so low\n",
            "have your friends collect your records and then change your number\n",
            "i guess that i dont need that though\n",
            "now youre just somebody that i used to know\n",
            "now youre just somebody that i used to know\n",
            "now youre just somebody that i used to know\n",
            "\n"
          ]
        }
      ]
    },
    {
      "cell_type": "code",
      "source": [
        ""
      ],
      "metadata": {
        "id": "gOZsSJ1mTql5"
      },
      "execution_count": 10,
      "outputs": []
    }
  ]
}